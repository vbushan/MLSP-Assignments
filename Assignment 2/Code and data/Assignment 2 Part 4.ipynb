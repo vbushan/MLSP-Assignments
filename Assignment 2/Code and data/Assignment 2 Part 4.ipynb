{
 "cells": [
  {
   "cell_type": "code",
   "execution_count": 63,
   "metadata": {},
   "outputs": [],
   "source": [
    "import matplotlib.image as mpimg \n",
    "import random"
   ]
  },
  {
   "cell_type": "code",
   "execution_count": 64,
   "metadata": {},
   "outputs": [],
   "source": [
    "img=mpimg.imread('IMG_1878.jpg')"
   ]
  },
  {
   "cell_type": "code",
   "execution_count": 65,
   "metadata": {},
   "outputs": [
    {
     "data": {
      "text/plain": [
       "array([[[ 65,  39,  24],\n",
       "        [ 61,  37,  35],\n",
       "        [ 52,  31,  38],\n",
       "        ...,\n",
       "        [ 75,  51,  39],\n",
       "        [111, 100,  96],\n",
       "        [139, 138, 134]],\n",
       "\n",
       "       [[ 47,  25,  14],\n",
       "        [ 72,  48,  48],\n",
       "        [ 63,  41,  44],\n",
       "        ...,\n",
       "        [ 88,  66,  55],\n",
       "        [105,  91,  88],\n",
       "        [164, 155, 156]],\n",
       "\n",
       "       [[ 54,  35,  28],\n",
       "        [ 51,  32,  26],\n",
       "        [ 60,  39,  36],\n",
       "        ...,\n",
       "        [ 99,  77,  64],\n",
       "        [ 95,  74,  69],\n",
       "        [141, 121, 123]],\n",
       "\n",
       "       ...,\n",
       "\n",
       "       [[ 57,  49,  47],\n",
       "        [ 55,  47,  45],\n",
       "        [ 52,  44,  42],\n",
       "        ...,\n",
       "        [ 78,  73,  67],\n",
       "        [ 81,  76,  70],\n",
       "        [ 75,  70,  64]],\n",
       "\n",
       "       [[ 45,  37,  35],\n",
       "        [ 43,  35,  33],\n",
       "        [ 41,  33,  31],\n",
       "        ...,\n",
       "        [ 75,  68,  62],\n",
       "        [ 82,  75,  69],\n",
       "        [ 77,  72,  68]],\n",
       "\n",
       "       [[ 41,  33,  31],\n",
       "        [ 42,  34,  32],\n",
       "        [ 42,  34,  32],\n",
       "        ...,\n",
       "        [ 77,  70,  64],\n",
       "        [ 76,  68,  65],\n",
       "        [ 82,  74,  71]]], dtype=uint8)"
      ]
     },
     "execution_count": 65,
     "metadata": {},
     "output_type": "execute_result"
    }
   ],
   "source": [
    "img"
   ]
  },
  {
   "cell_type": "code",
   "execution_count": 66,
   "metadata": {},
   "outputs": [
    {
     "data": {
      "text/plain": [
       "(1024, 768, 3)"
      ]
     },
     "execution_count": 66,
     "metadata": {},
     "output_type": "execute_result"
    }
   ],
   "source": [
    "img.shape"
   ]
  },
  {
   "cell_type": "code",
   "execution_count": 67,
   "metadata": {},
   "outputs": [],
   "source": [
    "Xr=img[:,:,0]\n",
    "Xg=img[:,:,1]\n",
    "Xb=img[:,:,2]"
   ]
  },
  {
   "cell_type": "code",
   "execution_count": 68,
   "metadata": {},
   "outputs": [
    {
     "data": {
      "text/plain": [
       "(1024, 768)"
      ]
     },
     "execution_count": 68,
     "metadata": {},
     "output_type": "execute_result"
    }
   ],
   "source": [
    "Xr.shape"
   ]
  },
  {
   "cell_type": "code",
   "execution_count": 69,
   "metadata": {},
   "outputs": [],
   "source": [
    "import numpy as np\n",
    "def extract_channels(Xr,Xg,Xb, blocks):\n",
    "    R=np.array(Xr)\n",
    "    G=np.array(Xg)\n",
    "    B=np.array(Xb)\n",
    "    \n",
    "    r_indexes=random.sample(list(range(0,R.shape[0]-8)),blocks//3)\n",
    "    g_indexes=random.sample(list(range(0,G.shape[0]-8)),blocks//3)\n",
    "    b_indexes=random.sample(list(range(0,B.shape[0]-8)),blocks//3)\n",
    "    \n",
    "    \n",
    "    r_channels=np.array([R[i:i+8,:] for i in r_indexes])\n",
    "    b_channels=np.array([B[i:i+8,:] for i in b_indexes])\n",
    "    g_channels=np.array([G[i:i+8,:] for i in g_indexes])\n",
    "    \n",
    "\n",
    "    r_block=r_channels[0]\n",
    "    for i in range(1,r_channels.shape[0]):\n",
    "        r_block=np.concatenate((r_block,r_channels[i]),axis=1)\n",
    "    \n",
    "    #print(r_block.shape)\n",
    "    \n",
    "    b_block=b_channels[0]\n",
    "    for i in range(1,b_channels.shape[0]):\n",
    "        b_block=np.concatenate((b_block,b_channels[i]),axis=1)\n",
    "    \n",
    "    #print(b_block.shape)\n",
    "    \n",
    "    g_block=g_channels[0]\n",
    "    for i in range(1,g_channels.shape[0]):\n",
    "        g_block=np.concatenate((g_block,g_channels[i]),axis=1)\n",
    "    \n",
    "    #print(g_block.shape)\n",
    "    \n",
    "    \n",
    "    final_block=np.concatenate((r_block,g_block,b_block),axis=1)\n",
    "    print('Dimension of the R block is',final_block.shape)\n",
    "    \n",
    "    return final_block\n",
    "#extract_channels(Xr,Xg,Xb,9)"
   ]
  },
  {
   "cell_type": "code",
   "execution_count": 70,
   "metadata": {},
   "outputs": [
    {
     "name": "stdout",
     "output_type": "stream",
     "text": [
      "Dimension of the R block is (8, 6912)\n"
     ]
    }
   ],
   "source": [
    "R=extract_channels(Xr,Xg,Xb,9)\n",
    "R=R.astype('float64')"
   ]
  },
  {
   "cell_type": "code",
   "execution_count": 71,
   "metadata": {},
   "outputs": [
    {
     "data": {
      "text/plain": [
       "<matplotlib.image.AxesImage at 0x2253fe36d68>"
      ]
     },
     "execution_count": 71,
     "metadata": {},
     "output_type": "execute_result"
    },
    {
     "data": {
      "image/png": "[encoded data removed]",
      "text/plain": [
       "<Figure size 432x288 with 1 Axes>"
      ]
     },
     "metadata": {
      "needs_background": "light"
     },
     "output_type": "display_data"
    }
   ],
   "source": [
    "from matplotlib import pyplot as plt\n",
    "plt.imshow(R,aspect='auto')"
   ]
  },
  {
   "cell_type": "code",
   "execution_count": 72,
   "metadata": {},
   "outputs": [],
   "source": [
    "for i in range(0,len(R)):\n",
    "    mean=np.mean(R[i])\n",
    "    R[i]-=mean\n",
    "    \n",
    "    "
   ]
  },
  {
   "cell_type": "code",
   "execution_count": 73,
   "metadata": {},
   "outputs": [],
   "source": [
    "co_var=R.dot(R.T)"
   ]
  },
  {
   "cell_type": "code",
   "execution_count": 74,
   "metadata": {},
   "outputs": [
    {
     "data": {
      "text/plain": [
       "(8, 8)"
      ]
     },
     "execution_count": 74,
     "metadata": {},
     "output_type": "execute_result"
    }
   ],
   "source": [
    "co_var.shape"
   ]
  },
  {
   "cell_type": "code",
   "execution_count": 75,
   "metadata": {},
   "outputs": [],
   "source": [
    "eig_val,eig_vect=np.linalg.eig(co_var)"
   ]
  },
  {
   "cell_type": "code",
   "execution_count": 76,
   "metadata": {},
   "outputs": [
    {
     "data": {
      "text/plain": [
       "array([1.65815324e+08, 5.35678748e+06, 2.57232665e+06, 1.74957831e+06,\n",
       "       1.29097837e+06, 2.70750539e+05, 9.15198980e+05, 5.34009984e+05])"
      ]
     },
     "execution_count": 76,
     "metadata": {},
     "output_type": "execute_result"
    }
   ],
   "source": [
    "eig_val"
   ]
  },
  {
   "cell_type": "code",
   "execution_count": 77,
   "metadata": {},
   "outputs": [
    {
     "data": {
      "text/plain": [
       "array([[ 0.35735883,  0.41895852, -0.35517679, -0.43605855,  0.44933707,\n",
       "         0.17403574,  0.28209997,  0.26210337],\n",
       "       [ 0.3598591 ,  0.42491202, -0.24174759, -0.04239587, -0.20189231,\n",
       "        -0.38012811, -0.41875365, -0.51874791],\n",
       "       [ 0.35831294,  0.32981011,  0.05263524,  0.42636139, -0.48903402,\n",
       "         0.44606064, -0.05824147,  0.36981912],\n",
       "       [ 0.3574974 ,  0.11691278,  0.42719487,  0.40763163,  0.22868517,\n",
       "        -0.43088552,  0.51556989, -0.07807982],\n",
       "       [ 0.35443512, -0.12902608,  0.55901184, -0.14953285,  0.36050508,\n",
       "         0.41988831, -0.4051435 , -0.22904662],\n",
       "       [ 0.35092638, -0.28398709,  0.238634  , -0.51149191, -0.37970066,\n",
       "        -0.38708935, -0.06315961,  0.42383009],\n",
       "       [ 0.34772089, -0.44048116, -0.25244271, -0.09886713, -0.29050256,\n",
       "         0.3048185 ,  0.45795858, -0.47384848],\n",
       "       [ 0.34193589, -0.47975012, -0.4438174 ,  0.40785927,  0.32765267,\n",
       "        -0.14670748, -0.31305615,  0.25042582]])"
      ]
     },
     "execution_count": 77,
     "metadata": {},
     "output_type": "execute_result"
    }
   ],
   "source": [
    "eig_vect"
   ]
  },
  {
   "cell_type": "code",
   "execution_count": 78,
   "metadata": {},
   "outputs": [
    {
     "data": {
      "text/plain": [
       "(8, 8)"
      ]
     },
     "execution_count": 78,
     "metadata": {},
     "output_type": "execute_result"
    }
   ],
   "source": [
    "eig_vect.shape"
   ]
  },
  {
   "cell_type": "code",
   "execution_count": 79,
   "metadata": {},
   "outputs": [],
   "source": [
    "result=(eig_vect.T).dot(R)"
   ]
  },
  {
   "cell_type": "code",
   "execution_count": 80,
   "metadata": {},
   "outputs": [
    {
     "data": {
      "text/plain": [
       "(8, 6912)"
      ]
     },
     "execution_count": 80,
     "metadata": {},
     "output_type": "execute_result"
    }
   ],
   "source": [
    "result.shape"
   ]
  },
  {
   "cell_type": "code",
   "execution_count": 81,
   "metadata": {},
   "outputs": [
    {
     "data": {
      "text/plain": [
       "<matplotlib.image.AxesImage at 0x2253fe8ce80>"
      ]
     },
     "execution_count": 81,
     "metadata": {},
     "output_type": "execute_result"
    },
    {
     "data": {
      "image/png": "[encoded data removed]",
      "text/plain": [
       "<Figure size 432x288 with 1 Axes>"
      ]
     },
     "metadata": {
      "needs_background": "light"
     },
     "output_type": "display_data"
    }
   ],
   "source": [
    "plt.imshow(result, aspect='auto')"
   ]
  },
  {
   "cell_type": "code",
   "execution_count": 82,
   "metadata": {},
   "outputs": [
    {
     "data": {
      "image/png": "[encoded data removed]",
      "text/plain": [
       "<Figure size 432x288 with 2 Axes>"
      ]
     },
     "metadata": {
      "needs_background": "light"
     },
     "output_type": "display_data"
    }
   ],
   "source": [
    "from matplotlib import pyplot as plt\n",
    "plt.imshow(eig_vect.T,aspect='auto');\n",
    "plt.colorbar();"
   ]
  },
  {
   "cell_type": "code",
   "execution_count": 83,
   "metadata": {},
   "outputs": [
    {
     "data": {
      "image/png": "[encoded data removed]",
      "text/plain": [
       "<Figure size 288x288 with 2 Axes>"
      ]
     },
     "metadata": {
      "needs_background": "light"
     },
     "output_type": "display_data"
    }
   ],
   "source": [
    "from matplotlib import pyplot as plt\n",
    "plt.matshow(eig_vect.T,aspect='auto');\n",
    "plt.colorbar();"
   ]
  },
  {
   "cell_type": "code",
   "execution_count": 84,
   "metadata": {},
   "outputs": [
    {
     "name": "stdout",
     "output_type": "stream",
     "text": [
      "Dimension of the R block is (8, 69120)\n"
     ]
    }
   ],
   "source": [
    "R=extract_channels(Xr,Xg,Xb,90)\n",
    "R=R.astype('float64')"
   ]
  },
  {
   "cell_type": "code",
   "execution_count": 85,
   "metadata": {},
   "outputs": [],
   "source": [
    "for i in range(0,len(R)):\n",
    "    mean=np.mean(R[i])\n",
    "    R[i]-=mean\n",
    "    "
   ]
  },
  {
   "cell_type": "code",
   "execution_count": 86,
   "metadata": {},
   "outputs": [],
   "source": [
    "co_var=R.dot(R.T)"
   ]
  },
  {
   "cell_type": "code",
   "execution_count": 87,
   "metadata": {},
   "outputs": [
    {
     "data": {
      "text/plain": [
       "(8, 8)"
      ]
     },
     "execution_count": 87,
     "metadata": {},
     "output_type": "execute_result"
    }
   ],
   "source": [
    "co_var.shape"
   ]
  },
  {
   "cell_type": "code",
   "execution_count": 88,
   "metadata": {},
   "outputs": [],
   "source": [
    "eig_val,eig_vect=np.linalg.eig(co_var)"
   ]
  },
  {
   "cell_type": "code",
   "execution_count": 89,
   "metadata": {},
   "outputs": [],
   "source": [
    "result=(eig_vect.T).dot(R)"
   ]
  },
  {
   "cell_type": "code",
   "execution_count": 90,
   "metadata": {},
   "outputs": [
    {
     "data": {
      "text/plain": [
       "(8, 69120)"
      ]
     },
     "execution_count": 90,
     "metadata": {},
     "output_type": "execute_result"
    }
   ],
   "source": [
    "result.shape"
   ]
  },
  {
   "cell_type": "code",
   "execution_count": 91,
   "metadata": {},
   "outputs": [
    {
     "data": {
      "image/png": "[encoded data removed]",
      "text/plain": [
       "<Figure size 432x288 with 2 Axes>"
      ]
     },
     "metadata": {
      "needs_background": "light"
     },
     "output_type": "display_data"
    }
   ],
   "source": [
    "from matplotlib import pyplot as plt\n",
    "plt.imshow(eig_vect.T,aspect='auto');\n",
    "plt.colorbar();"
   ]
  },
  {
   "cell_type": "code",
   "execution_count": 92,
   "metadata": {},
   "outputs": [
    {
     "data": {
      "text/plain": [
       "<matplotlib.image.AxesImage at 0x225454cfb00>"
      ]
     },
     "execution_count": 92,
     "metadata": {},
     "output_type": "execute_result"
    },
    {
     "data": {
      "image/png": "[encoded data removed]",
      "text/plain": [
       "<Figure size 432x288 with 1 Axes>"
      ]
     },
     "metadata": {
      "needs_background": "light"
     },
     "output_type": "display_data"
    }
   ],
   "source": [
    "plt.imshow(result,aspect='auto')"
   ]
  }
 ],
 "metadata": {
  "kernelspec": {
   "display_name": "Python 3",
   "language": "python",
   "name": "python3"
  },
  "language_info": {
   "codemirror_mode": {
    "name": "ipython",
    "version": 3
   },
   "file_extension": ".py",
   "mimetype": "text/x-python",
   "name": "python",
   "nbconvert_exporter": "python",
   "pygments_lexer": "ipython3",
   "version": "3.7.3"
  }
 },
 "nbformat": 4,
 "nbformat_minor": 2
}
